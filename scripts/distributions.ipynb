{
 "cells": [
  {
   "cell_type": "code",
   "execution_count": null,
   "metadata": {
    "collapsed": true
   },
   "outputs": [],
   "source": [
    "# Imports\n",
    "import pandas as pd\n",
    "import numpy as np\n",
    "import matplotlib.pyplot as plt\n",
    "import seaborn as sns\n",
    "from IPython.display import display\n",
    "import scienceplots\n",
    "\n",
    "# Configuration\n",
    "TAG = '100_jobs'\n",
    "FOLDER = f\"../results/{TAG}/\"\n",
    "PROV_JOB = f\"{FOLDER}{TAG}_provide_jobs_summary.csv\"\n",
    "RETRIEVE_JOB = f\"{FOLDER}{TAG}_retrieval_jobs_summary.csv\"\n",
    "INDV_PROVS = f\"{FOLDER}{TAG}_indv_provide_summary.csv\"\n",
    "INDV_RETRIEVALS = f\"{FOLDER}{TAG}_indv_retrieval_summary.csv\"\n",
    "\n",
    "# plot style/configuration\n",
    "plt.style.context(['science', 'ieee', 'std-colors'])"
   ]
  },
  {
   "cell_type": "code",
   "execution_count": null,
   "outputs": [],
   "source": [
    "# plots\n",
    "def plot_cdf(df=pd.DataFrame, column=str, hue=None, opts=dict, saveto=str, xlim=tuple):\n",
    "    df = df.sort_values(column)\n",
    "    g = sns.ecdfplot(data=df, x=column, hue=None)\n",
    "    g.set(title=opts['t'], xlabel=opts['x'], ylabel=opts['y'])\n",
    "    if saveto != \"\":\n",
    "        plt.savefig(saveto)\n",
    "    if xlim != ():\n",
    "        plt.xlim(xlim[0], xlim[1])\n",
    "    plt.show()\n",
    "\n",
    "def plot_pdf(df=pd.DataFrame, column=str, hue=None, opts=dict, saveto=str, xlim=tuple):\n",
    "    df = df.sort_values(column)\n",
    "    g = sns.displot(data=df, x=column, kde = False, hue=None)\n",
    "    g.set(title=opts['t'], xlabel=opts['x'], ylabel=opts['y'])\n",
    "    if saveto != \"\":\n",
    "        plt.savefig(saveto)\n",
    "    if xlim != ():\n",
    "        plt.xlim(xlim[0], xlim[1])\n",
    "    plt.show()\n"
   ],
   "metadata": {
    "collapsed": false
   }
  },
  {
   "cell_type": "code",
   "execution_count": null,
   "outputs": [],
   "source": [
    "# get the INDIVIDUAL retrievals\n",
    "retrievals = pd.read_csv(INDV_RETRIEVALS)\n",
    "display(retrievals)\n",
    "\n",
    "# Retrieval times:\n",
    "# cdf\n",
    "plot_cdf(df=retrievals, column='retrieval_duration_ms', opts={\n",
    "    't': 'Retrieval time CDF distribution',\n",
    "    'x': 'Retrieval lookup time (ms)',\n",
    "    'y': \"Retrieval's CDF\",\n",
    "    }, saveto=\"\", xlim=(0, 2_000))\n",
    "# pdf\n",
    "plot_pdf(df=retrievals, column='retrieval_duration_ms', opts={\n",
    "    't': 'Retrieval time PDF distribution',\n",
    "    'x': 'Retrieval lookup time (ms)',\n",
    "    'y': \"Retrievals\",\n",
    "    }, saveto=\"\", xlim=(0, 2_000))\n",
    "\n",
    "# hops\n",
    "plot_cdf(df=retrievals, column='total_hops', opts={\n",
    "    't': 'Retrieval hops CDF distribution',\n",
    "    'x': 'Number of total hops',\n",
    "    'y': \"Hops's CDF\",\n",
    "    }, saveto=\"\", xlim=(0, 100))\n",
    "\n",
    "# pdf\n",
    "plot_pdf(df=retrievals, column='total_hops', opts={\n",
    "    't': 'Retrieval hops PDF distribution',\n",
    "    'x': 'Number of total hops',\n",
    "    'y': \"Hops\",\n",
    "    }, saveto=\"\", xlim=(0, 100))\n"
   ],
   "metadata": {
    "collapsed": false
   }
  },
  {
   "cell_type": "code",
   "execution_count": null,
   "outputs": [],
   "source": [
    "# get the JOB Summary retrievals\n",
    "retrievals = pd.read_csv(RETRIEVE_JOB)\n",
    "\n",
    "# Retrieval times:\n",
    "# cdf\n",
    "plot_cdf(df=retrievals, column='duration_ms', opts={\n",
    "    't': 'Retrieval time CDF distribution',\n",
    "    'x': 'Retrieval lookup time (ms)',\n",
    "    'y': \"Retrieval's CDF\",\n",
    "    }, saveto=\"\", xlim=(0, 3_000))\n",
    "# pdf\n",
    "plot_pdf(df=retrievals, column='duration_ms', opts={\n",
    "    't': 'Retrieval time PDF distribution',\n",
    "    'x': 'Retrieval lookup time (ms)',\n",
    "    'y': \"Retrievals\",\n",
    "    }, saveto=\"\", xlim=(0, 3_000))\n",
    "\n"
   ],
   "metadata": {
    "collapsed": false
   }
  }
 ],
 "metadata": {
  "kernelspec": {
   "display_name": "Python 3",
   "language": "python",
   "name": "python3"
  },
  "language_info": {
   "codemirror_mode": {
    "name": "ipython",
    "version": 2
   },
   "file_extension": ".py",
   "mimetype": "text/x-python",
   "name": "python",
   "nbconvert_exporter": "python",
   "pygments_lexer": "ipython2",
   "version": "2.7.6"
  }
 },
 "nbformat": 4,
 "nbformat_minor": 0
}
